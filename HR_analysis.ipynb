{
 "cells": [
  {
   "cell_type": "markdown",
   "id": "f4c9bb8a",
   "metadata": {},
   "source": [
    "# Predict Employee Turnover"
   ]
  },
  {
   "cell_type": "markdown",
   "id": "9603f1a5",
   "metadata": {},
   "source": [
    "### Build models (Logistic Regression, SVM, KNN, Random Forest) to predict the target variable \"left\" (modeling if an employee has left the company or not)"
   ]
  },
  {
   "cell_type": "markdown",
   "id": "dacb9ad0",
   "metadata": {},
   "source": [
    "The data was downloaded from Kaggle. Each row represents an employee, each column contains employee attributes:\n",
    "- Satisfaction_level (0–1)\n",
    "- Last_evaluation (Time since last evaluation in years)\n",
    "- Number_projects (Number of projects completed while at work)\n",
    "- Average_monthly_hours (Average monthly hours at workplace)\n",
    "- Time_spend_company (Time spent at the company in years)\n",
    "- Work_accident (Whether the employee had a workplace accident)\n",
    "- Left (Whether the employee left the workplace or not (1 or 0))\n",
    "- Promotion_last_5years (Whether the employee was promoted in the last five years)\n",
    "- Sales (Department in which they work for)\n",
    "- Salary (Relative level of salary)"
   ]
  },
  {
   "cell_type": "code",
   "execution_count": 1,
   "id": "323782d8",
   "metadata": {},
   "outputs": [],
   "source": [
    "import pandas as pd\n",
    "import numpy as np\n",
    "import matplotlib.pyplot as plt\n",
    "%matplotlib inline\n",
    "import seaborn as sns"
   ]
  },
  {
   "cell_type": "code",
   "execution_count": 43,
   "id": "05de26ae",
   "metadata": {},
   "outputs": [],
   "source": [
    "df = pd.read_csv('hr_data.csv')"
   ]
  },
  {
   "cell_type": "code",
   "execution_count": 3,
   "id": "e266700c",
   "metadata": {},
   "outputs": [
    {
     "data": {
      "text/html": [
       "<div>\n",
       "<style scoped>\n",
       "    .dataframe tbody tr th:only-of-type {\n",
       "        vertical-align: middle;\n",
       "    }\n",
       "\n",
       "    .dataframe tbody tr th {\n",
       "        vertical-align: top;\n",
       "    }\n",
       "\n",
       "    .dataframe thead th {\n",
       "        text-align: right;\n",
       "    }\n",
       "</style>\n",
       "<table border=\"1\" class=\"dataframe\">\n",
       "  <thead>\n",
       "    <tr style=\"text-align: right;\">\n",
       "      <th></th>\n",
       "      <th>satisfaction_level</th>\n",
       "      <th>last_evaluation</th>\n",
       "      <th>number_project</th>\n",
       "      <th>average_montly_hours</th>\n",
       "      <th>time_spend_company</th>\n",
       "      <th>work_accident</th>\n",
       "      <th>left</th>\n",
       "      <th>promotion_last_5years</th>\n",
       "      <th>is_smoker</th>\n",
       "      <th>department</th>\n",
       "      <th>salary</th>\n",
       "    </tr>\n",
       "  </thead>\n",
       "  <tbody>\n",
       "    <tr>\n",
       "      <th>0</th>\n",
       "      <td>0.38</td>\n",
       "      <td>0.53</td>\n",
       "      <td>2</td>\n",
       "      <td>157.0</td>\n",
       "      <td>3.0</td>\n",
       "      <td>0</td>\n",
       "      <td>yes</td>\n",
       "      <td>0</td>\n",
       "      <td>NaN</td>\n",
       "      <td>sales</td>\n",
       "      <td>low</td>\n",
       "    </tr>\n",
       "    <tr>\n",
       "      <th>1</th>\n",
       "      <td>0.80</td>\n",
       "      <td>0.86</td>\n",
       "      <td>5</td>\n",
       "      <td>262.0</td>\n",
       "      <td>6.0</td>\n",
       "      <td>0</td>\n",
       "      <td>yes</td>\n",
       "      <td>0</td>\n",
       "      <td>yes</td>\n",
       "      <td>sales</td>\n",
       "      <td>medium</td>\n",
       "    </tr>\n",
       "    <tr>\n",
       "      <th>2</th>\n",
       "      <td>0.11</td>\n",
       "      <td>0.88</td>\n",
       "      <td>7</td>\n",
       "      <td>272.0</td>\n",
       "      <td>4.0</td>\n",
       "      <td>0</td>\n",
       "      <td>yes</td>\n",
       "      <td>0</td>\n",
       "      <td>NaN</td>\n",
       "      <td>sales</td>\n",
       "      <td>medium</td>\n",
       "    </tr>\n",
       "    <tr>\n",
       "      <th>3</th>\n",
       "      <td>0.72</td>\n",
       "      <td>0.87</td>\n",
       "      <td>5</td>\n",
       "      <td>223.0</td>\n",
       "      <td>5.0</td>\n",
       "      <td>0</td>\n",
       "      <td>yes</td>\n",
       "      <td>0</td>\n",
       "      <td>NaN</td>\n",
       "      <td>sales</td>\n",
       "      <td>low</td>\n",
       "    </tr>\n",
       "    <tr>\n",
       "      <th>4</th>\n",
       "      <td>0.37</td>\n",
       "      <td>0.52</td>\n",
       "      <td>2</td>\n",
       "      <td>NaN</td>\n",
       "      <td>NaN</td>\n",
       "      <td>0</td>\n",
       "      <td>yes</td>\n",
       "      <td>0</td>\n",
       "      <td>no</td>\n",
       "      <td>sales</td>\n",
       "      <td>low</td>\n",
       "    </tr>\n",
       "  </tbody>\n",
       "</table>\n",
       "</div>"
      ],
      "text/plain": [
       "   satisfaction_level  last_evaluation  number_project  average_montly_hours  \\\n",
       "0                0.38             0.53               2                 157.0   \n",
       "1                0.80             0.86               5                 262.0   \n",
       "2                0.11             0.88               7                 272.0   \n",
       "3                0.72             0.87               5                 223.0   \n",
       "4                0.37             0.52               2                   NaN   \n",
       "\n",
       "   time_spend_company  work_accident left  promotion_last_5years is_smoker  \\\n",
       "0                 3.0              0  yes                      0       NaN   \n",
       "1                 6.0              0  yes                      0       yes   \n",
       "2                 4.0              0  yes                      0       NaN   \n",
       "3                 5.0              0  yes                      0       NaN   \n",
       "4                 NaN              0  yes                      0        no   \n",
       "\n",
       "  department  salary  \n",
       "0      sales     low  \n",
       "1      sales  medium  \n",
       "2      sales  medium  \n",
       "3      sales     low  \n",
       "4      sales     low  "
      ]
     },
     "execution_count": 3,
     "metadata": {},
     "output_type": "execute_result"
    }
   ],
   "source": [
    "df.head()"
   ]
  },
  {
   "cell_type": "code",
   "execution_count": 4,
   "id": "0fbbc8e3",
   "metadata": {},
   "outputs": [
    {
     "data": {
      "text/html": [
       "<div>\n",
       "<style scoped>\n",
       "    .dataframe tbody tr th:only-of-type {\n",
       "        vertical-align: middle;\n",
       "    }\n",
       "\n",
       "    .dataframe tbody tr th {\n",
       "        vertical-align: top;\n",
       "    }\n",
       "\n",
       "    .dataframe thead th {\n",
       "        text-align: right;\n",
       "    }\n",
       "</style>\n",
       "<table border=\"1\" class=\"dataframe\">\n",
       "  <thead>\n",
       "    <tr style=\"text-align: right;\">\n",
       "      <th></th>\n",
       "      <th>satisfaction_level</th>\n",
       "      <th>last_evaluation</th>\n",
       "      <th>number_project</th>\n",
       "      <th>average_montly_hours</th>\n",
       "      <th>time_spend_company</th>\n",
       "      <th>work_accident</th>\n",
       "      <th>left</th>\n",
       "      <th>promotion_last_5years</th>\n",
       "      <th>is_smoker</th>\n",
       "      <th>department</th>\n",
       "      <th>salary</th>\n",
       "    </tr>\n",
       "  </thead>\n",
       "  <tbody>\n",
       "    <tr>\n",
       "      <th>14994</th>\n",
       "      <td>0.40</td>\n",
       "      <td>0.57</td>\n",
       "      <td>2</td>\n",
       "      <td>151.0</td>\n",
       "      <td>3.0</td>\n",
       "      <td>0</td>\n",
       "      <td>yes</td>\n",
       "      <td>0</td>\n",
       "      <td>NaN</td>\n",
       "      <td>support</td>\n",
       "      <td>low</td>\n",
       "    </tr>\n",
       "    <tr>\n",
       "      <th>14995</th>\n",
       "      <td>0.37</td>\n",
       "      <td>0.48</td>\n",
       "      <td>2</td>\n",
       "      <td>160.0</td>\n",
       "      <td>3.0</td>\n",
       "      <td>0</td>\n",
       "      <td>yes</td>\n",
       "      <td>0</td>\n",
       "      <td>NaN</td>\n",
       "      <td>support</td>\n",
       "      <td>low</td>\n",
       "    </tr>\n",
       "    <tr>\n",
       "      <th>14996</th>\n",
       "      <td>0.37</td>\n",
       "      <td>0.53</td>\n",
       "      <td>2</td>\n",
       "      <td>143.0</td>\n",
       "      <td>3.0</td>\n",
       "      <td>0</td>\n",
       "      <td>yes</td>\n",
       "      <td>0</td>\n",
       "      <td>NaN</td>\n",
       "      <td>support</td>\n",
       "      <td>low</td>\n",
       "    </tr>\n",
       "    <tr>\n",
       "      <th>14997</th>\n",
       "      <td>0.11</td>\n",
       "      <td>0.96</td>\n",
       "      <td>6</td>\n",
       "      <td>280.0</td>\n",
       "      <td>4.0</td>\n",
       "      <td>0</td>\n",
       "      <td>yes</td>\n",
       "      <td>0</td>\n",
       "      <td>NaN</td>\n",
       "      <td>support</td>\n",
       "      <td>low</td>\n",
       "    </tr>\n",
       "    <tr>\n",
       "      <th>14998</th>\n",
       "      <td>0.37</td>\n",
       "      <td>0.52</td>\n",
       "      <td>2</td>\n",
       "      <td>158.0</td>\n",
       "      <td>3.0</td>\n",
       "      <td>0</td>\n",
       "      <td>yes</td>\n",
       "      <td>0</td>\n",
       "      <td>NaN</td>\n",
       "      <td>support</td>\n",
       "      <td>low</td>\n",
       "    </tr>\n",
       "  </tbody>\n",
       "</table>\n",
       "</div>"
      ],
      "text/plain": [
       "       satisfaction_level  last_evaluation  number_project  \\\n",
       "14994                0.40             0.57               2   \n",
       "14995                0.37             0.48               2   \n",
       "14996                0.37             0.53               2   \n",
       "14997                0.11             0.96               6   \n",
       "14998                0.37             0.52               2   \n",
       "\n",
       "       average_montly_hours  time_spend_company  work_accident left  \\\n",
       "14994                 151.0                 3.0              0  yes   \n",
       "14995                 160.0                 3.0              0  yes   \n",
       "14996                 143.0                 3.0              0  yes   \n",
       "14997                 280.0                 4.0              0  yes   \n",
       "14998                 158.0                 3.0              0  yes   \n",
       "\n",
       "       promotion_last_5years is_smoker department salary  \n",
       "14994                      0       NaN    support    low  \n",
       "14995                      0       NaN    support    low  \n",
       "14996                      0       NaN    support    low  \n",
       "14997                      0       NaN    support    low  \n",
       "14998                      0       NaN    support    low  "
      ]
     },
     "execution_count": 4,
     "metadata": {},
     "output_type": "execute_result"
    }
   ],
   "source": [
    "df.tail()"
   ]
  },
  {
   "cell_type": "code",
   "execution_count": 44,
   "id": "e127af6e",
   "metadata": {},
   "outputs": [
    {
     "data": {
      "text/plain": [
       "(14999, 11)"
      ]
     },
     "execution_count": 44,
     "metadata": {},
     "output_type": "execute_result"
    }
   ],
   "source": [
    "df.shape"
   ]
  },
  {
   "cell_type": "code",
   "execution_count": 6,
   "id": "8d8f5283",
   "metadata": {},
   "outputs": [
    {
     "data": {
      "text/plain": [
       "satisfaction_level       float64\n",
       "last_evaluation          float64\n",
       "number_project             int64\n",
       "average_montly_hours     float64\n",
       "time_spend_company       float64\n",
       "work_accident              int64\n",
       "left                      object\n",
       "promotion_last_5years      int64\n",
       "is_smoker                 object\n",
       "department                object\n",
       "salary                    object\n",
       "dtype: object"
      ]
     },
     "execution_count": 6,
     "metadata": {},
     "output_type": "execute_result"
    }
   ],
   "source": [
    "df.dtypes"
   ]
  },
  {
   "cell_type": "code",
   "execution_count": 7,
   "id": "4000fe23",
   "metadata": {},
   "outputs": [
    {
     "data": {
      "image/png": "[encoded data removed]",
      "text/plain": [
       "<Figure size 432x288 with 1 Axes>"
      ]
     },
     "metadata": {
      "needs_background": "light"
     },
     "output_type": "display_data"
    },
    {
     "data": {
      "image/png": "[encoded data removed]",
      "text/plain": [
       "<Figure size 432x288 with 1 Axes>"
      ]
     },
     "metadata": {
      "needs_background": "light"
     },
     "output_type": "display_data"
    },
    {
     "data": {
      "image/png": "[encoded data removed]",
      "text/plain": [
       "<Figure size 432x288 with 1 Axes>"
      ]
     },
     "metadata": {
      "needs_background": "light"
     },
     "output_type": "display_data"
    },
    {
     "data": {
      "image/png": "[encoded data removed]",
      "text/plain": [
       "<Figure size 432x288 with 1 Axes>"
      ]
     },
     "metadata": {
      "needs_background": "light"
     },
     "output_type": "display_data"
    },
    {
     "data": {
      "image/png": "[encoded data removed]",
      "text/plain": [
       "<Figure size 432x288 with 1 Axes>"
      ]
     },
     "metadata": {
      "needs_background": "light"
     },
     "output_type": "display_data"
    },
    {
     "data": {
      "image/png": "[encoded data removed]",
      "text/plain": [
       "<Figure size 432x288 with 1 Axes>"
      ]
     },
     "metadata": {
      "needs_background": "light"
     },
     "output_type": "display_data"
    },
    {
     "data": {
      "image/png": "[encoded data removed]",
      "text/plain": [
       "<Figure size 432x288 with 1 Axes>"
      ]
     },
     "metadata": {
      "needs_background": "light"
     },
     "output_type": "display_data"
    },
    {
     "data": {
      "image/png": "[encoded data removed]",
      "text/plain": [
       "<Figure size 432x288 with 1 Axes>"
      ]
     },
     "metadata": {
      "needs_background": "light"
     },
     "output_type": "display_data"
    },
    {
     "data": {
      "image/png": "[encoded data removed]",
      "text/plain": [
       "<Figure size 432x288 with 1 Axes>"
      ]
     },
     "metadata": {
      "needs_background": "light"
     },
     "output_type": "display_data"
    },
    {
     "data": {
      "image/png": "[encoded data removed]",
      "text/plain": [
       "<Figure size 432x288 with 1 Axes>"
      ]
     },
     "metadata": {
      "needs_background": "light"
     },
     "output_type": "display_data"
    },
    {
     "data": {
      "image/png": "[encoded data removed]",
      "text/plain": [
       "<Figure size 432x288 with 1 Axes>"
      ]
     },
     "metadata": {
      "needs_background": "light"
     },
     "output_type": "display_data"
    }
   ],
   "source": [
    "# Print the distibutions\n",
    "for col in df.columns:\n",
    "    fig = plt.figure()\n",
    "    s = df[col]\n",
    "    if s.dtype in ('float', 'int'):\n",
    "        num_bins = min((30, len(df[col].unique())))\n",
    "        s.hist(bins=num_bins)\n",
    "    else:\n",
    "        s.value_counts().plot.bar()    \n",
    "    plt.xlabel(col)"
   ]
  },
  {
   "cell_type": "markdown",
   "id": "1827ee82",
   "metadata": {},
   "source": [
    "Checking missing values"
   ]
  },
  {
   "cell_type": "code",
   "execution_count": 8,
   "id": "abf4972b",
   "metadata": {},
   "outputs": [
    {
     "data": {
      "text/plain": [
       "satisfaction_level           0\n",
       "last_evaluation              0\n",
       "number_project               0\n",
       "average_montly_hours       368\n",
       "time_spend_company         151\n",
       "work_accident                0\n",
       "left                         0\n",
       "promotion_last_5years        0\n",
       "is_smoker                14764\n",
       "department                   0\n",
       "salary                       0\n",
       "dtype: int64"
      ]
     },
     "execution_count": 8,
     "metadata": {},
     "output_type": "execute_result"
    }
   ],
   "source": [
    "df.isnull().sum()"
   ]
  },
  {
   "cell_type": "code",
   "execution_count": 9,
   "id": "68cb0acb",
   "metadata": {},
   "outputs": [
    {
     "data": {
      "text/plain": [
       "satisfaction_level        0.000000\n",
       "last_evaluation           0.000000\n",
       "number_project            0.000000\n",
       "average_montly_hours      2.453497\n",
       "time_spend_company        1.006734\n",
       "work_accident             0.000000\n",
       "left                      0.000000\n",
       "promotion_last_5years     0.000000\n",
       "is_smoker                98.433229\n",
       "department                0.000000\n",
       "salary                    0.000000\n",
       "dtype: float64"
      ]
     },
     "execution_count": 9,
     "metadata": {},
     "output_type": "execute_result"
    }
   ],
   "source": [
    "# Percentage of missing values\n",
    "df.isnull().sum() / len(df) * 100"
   ]
  },
  {
   "cell_type": "markdown",
   "id": "81e83b45",
   "metadata": {},
   "source": [
    "is_smoker has 98.43% missing values do we can delete this variable"
   ]
  },
  {
   "cell_type": "code",
   "execution_count": 45,
   "id": "48745d1c",
   "metadata": {},
   "outputs": [],
   "source": [
    "# Delete is_smoker variable\n",
    "del df['is_smoker']"
   ]
  },
  {
   "cell_type": "code",
   "execution_count": 46,
   "id": "48e1480b",
   "metadata": {},
   "outputs": [],
   "source": [
    "# Replace median values for time_spend_company \n",
    "median_tsc = df.time_spend_company.median()\n",
    "df.time_spend_company = df.time_spend_company.fillna(median_tsc)"
   ]
  },
  {
   "cell_type": "code",
   "execution_count": 47,
   "id": "006a3f47",
   "metadata": {},
   "outputs": [],
   "source": [
    "# Replace mean values for average_montly_hours\n",
    "mean_amh = df.average_montly_hours.mean()\n",
    "df.average_montly_hours = df.average_montly_hours.fillna(mean_amh)"
   ]
  },
  {
   "cell_type": "code",
   "execution_count": 48,
   "id": "71e0b1a1",
   "metadata": {},
   "outputs": [
    {
     "data": {
      "text/plain": [
       "satisfaction_level       0\n",
       "last_evaluation          0\n",
       "number_project           0\n",
       "average_montly_hours     0\n",
       "time_spend_company       0\n",
       "work_accident            0\n",
       "left                     0\n",
       "promotion_last_5years    0\n",
       "department               0\n",
       "salary                   0\n",
       "dtype: int64"
      ]
     },
     "execution_count": 48,
     "metadata": {},
     "output_type": "execute_result"
    }
   ],
   "source": [
    "#check missing values again\n",
    "df.isnull().sum()"
   ]
  },
  {
   "cell_type": "code",
   "execution_count": 49,
   "id": "00353b61",
   "metadata": {},
   "outputs": [
    {
     "data": {
      "text/plain": [
       "no     11428\n",
       "yes     3571\n",
       "Name: left, dtype: int64"
      ]
     },
     "execution_count": 49,
     "metadata": {},
     "output_type": "execute_result"
    }
   ],
   "source": [
    "df.left.value_counts()"
   ]
  },
  {
   "cell_type": "code",
   "execution_count": 50,
   "id": "76dcc3ab",
   "metadata": {},
   "outputs": [],
   "source": [
    "# Convert categorical variable to binary integer representation\n",
    "df.left = df.left.map({'no': 0, 'yes': 1})\n",
    "df = pd.get_dummies(df)"
   ]
  },
  {
   "cell_type": "code",
   "execution_count": 34,
   "id": "9bd48c91",
   "metadata": {},
   "outputs": [
    {
     "data": {
      "text/plain": [
       "Index(['satisfaction_level', 'last_evaluation', 'number_project',\n",
       "       'average_montly_hours', 'time_spend_company', 'work_accident', 'left',\n",
       "       'promotion_last_5years', 'department_IT', 'department_RandD',\n",
       "       'department_accounting', 'department_hr', 'department_management',\n",
       "       'department_marketing', 'department_product_mng', 'department_sales',\n",
       "       'department_support', 'department_technical', 'salary_high',\n",
       "       'salary_low', 'salary_medium'],\n",
       "      dtype='object')"
      ]
     },
     "execution_count": 34,
     "metadata": {},
     "output_type": "execute_result"
    }
   ],
   "source": [
    "df.columns"
   ]
  },
  {
   "cell_type": "code",
   "execution_count": 51,
   "id": "c805efdf",
   "metadata": {},
   "outputs": [],
   "source": [
    "# Import train_test_split function\n",
    "from sklearn.model_selection import train_test_split\n",
    "\n",
    "X=df[['satisfaction_level', 'last_evaluation', 'number_project',\n",
    "       'average_montly_hours', 'time_spend_company', 'work_accident',\n",
    "       'promotion_last_5years', 'department_IT', 'department_RandD',\n",
    "       'department_accounting', 'department_hr', 'department_management',\n",
    "       'department_marketing', 'department_product_mng', 'department_sales',\n",
    "       'department_support', 'department_technical', 'salary_high',\n",
    "       'salary_low', 'salary_medium']]  # Features\n",
    "y=df['left']  # Labels\n",
    "\n",
    "# Split dataset into training set and test set 70 - 30\n",
    "X_train, X_test, y_train, y_test = train_test_split(X, y, test_size=0.3,random_state=0)"
   ]
  },
  {
   "cell_type": "code",
   "execution_count": 52,
   "id": "187eb50e",
   "metadata": {},
   "outputs": [],
   "source": [
    "# Scale the data for SVMs and K-Nearest Neighbors\n",
    "\n",
    "from sklearn.preprocessing import StandardScaler\n",
    "\n",
    "scaler = StandardScaler()\n",
    "X_train_std = scaler.fit_transform(X_train)\n",
    "X_test_std = scaler.transform(X_test)"
   ]
  },
  {
   "cell_type": "markdown",
   "id": "c45ea616",
   "metadata": {},
   "source": [
    "#### Random Forest Model"
   ]
  },
  {
   "cell_type": "code",
   "execution_count": 53,
   "id": "b1909bdf",
   "metadata": {},
   "outputs": [],
   "source": [
    "from sklearn.ensemble import RandomForestClassifier\n",
    "rfc = RandomForestClassifier(n_estimators=100)\n",
    "rfc.fit(X_train_std, y_train)\n",
    "\n",
    "y_pred=rfc.predict(X_test_std)"
   ]
  },
  {
   "cell_type": "code",
   "execution_count": 54,
   "id": "5745919a",
   "metadata": {},
   "outputs": [
    {
     "name": "stdout",
     "output_type": "stream",
     "text": [
      "Accuracy: 0.9864444444444445\n"
     ]
    }
   ],
   "source": [
    "#Import scikit-learn metrics module for accuracy calculation\n",
    "from sklearn import metrics\n",
    "# Model Accuracy, how often is the classifier correct?\n",
    "print(\"Accuracy:\",metrics.accuracy_score(y_test, y_pred))"
   ]
  },
  {
   "cell_type": "code",
   "execution_count": 74,
   "id": "43caea43",
   "metadata": {},
   "outputs": [
    {
     "data": {
      "text/plain": [
       "array([[3452,   10],\n",
       "       [  51,  987]])"
      ]
     },
     "execution_count": 74,
     "metadata": {},
     "output_type": "execute_result"
    }
   ],
   "source": [
    "confusion_matrix(y_test, y_pred)"
   ]
  },
  {
   "cell_type": "code",
   "execution_count": 75,
   "id": "276f13b8",
   "metadata": {},
   "outputs": [
    {
     "name": "stdout",
     "output_type": "stream",
     "text": [
      "percent accuracy score per class:\n",
      "left = 0 : 99.71%\n",
      "left = 1 : 95.09%\n"
     ]
    }
   ],
   "source": [
    "# What is the accuracy by class?\n",
    "\n",
    "print('percent accuracy score per class:')\n",
    "cmat = confusion_matrix(y_test, y_pred)\n",
    "scores = cmat.diagonal() / cmat.sum(axis=1) * 100\n",
    "print('left = 0 : {:.2f}%'.format(scores[0]))\n",
    "print('left = 1 : {:.2f}%'.format(scores[1]))"
   ]
  },
  {
   "cell_type": "code",
   "execution_count": 55,
   "id": "454340f6",
   "metadata": {},
   "outputs": [],
   "source": [
    "columns = X.columns"
   ]
  },
  {
   "cell_type": "code",
   "execution_count": 56,
   "id": "ced28467",
   "metadata": {},
   "outputs": [
    {
     "data": {
      "text/plain": [
       "satisfaction_level        0.322801\n",
       "time_spend_company        0.173549\n",
       "number_project            0.161661\n",
       "average_montly_hours      0.157839\n",
       "last_evaluation           0.133855\n",
       "work_accident             0.009061\n",
       "salary_low                0.007615\n",
       "salary_high               0.004802\n",
       "salary_medium             0.004111\n",
       "department_technical      0.003997\n",
       "department_sales          0.003266\n",
       "department_support        0.003018\n",
       "promotion_last_5years     0.002132\n",
       "department_accounting     0.002030\n",
       "department_RandD          0.001980\n",
       "department_IT             0.001887\n",
       "department_hr             0.001800\n",
       "department_product_mng    0.001600\n",
       "department_management     0.001539\n",
       "department_marketing      0.001458\n",
       "dtype: float64"
      ]
     },
     "execution_count": 56,
     "metadata": {},
     "output_type": "execute_result"
    }
   ],
   "source": [
    "feature_imp = pd.Series(rfc.feature_importances_,index=columns).sort_values(ascending=False)\n",
    "feature_imp"
   ]
  },
  {
   "cell_type": "code",
   "execution_count": 57,
   "id": "be9b9f88",
   "metadata": {},
   "outputs": [
    {
     "name": "stderr",
     "output_type": "stream",
     "text": [
      "No handles with labels found to put in legend.\n"
     ]
    },
    {
     "data": {
      "image/png": "[encoded data removed]",
      "text/plain": [
       "<Figure size 432x288 with 1 Axes>"
      ]
     },
     "metadata": {
      "needs_background": "light"
     },
     "output_type": "display_data"
    }
   ],
   "source": [
    "import matplotlib.pyplot as plt\n",
    "import seaborn as sns\n",
    "%matplotlib inline\n",
    "# Creating a bar plot\n",
    "sns.barplot(x=feature_imp, y=feature_imp.index)\n",
    "# Add labels to your graph\n",
    "plt.xlabel('Feature Importance Score')\n",
    "plt.ylabel('Features')\n",
    "plt.title(\"Visualizing Important Features\")\n",
    "plt.legend()\n",
    "plt.show()"
   ]
  },
  {
   "cell_type": "markdown",
   "id": "aa97392b",
   "metadata": {},
   "source": [
    "We can see satisfaction level is the most important feature."
   ]
  },
  {
   "cell_type": "markdown",
   "id": "7eadff3e",
   "metadata": {},
   "source": [
    "#### Logistic Regression Model"
   ]
  },
  {
   "cell_type": "code",
   "execution_count": 58,
   "id": "92b3f72d",
   "metadata": {},
   "outputs": [
    {
     "data": {
      "text/plain": [
       "LogisticRegression()"
      ]
     },
     "execution_count": 58,
     "metadata": {},
     "output_type": "execute_result"
    }
   ],
   "source": [
    "from sklearn.linear_model import LogisticRegression\n",
    "from sklearn import metrics\n",
    "logreg = LogisticRegression()\n",
    "logreg.fit(X_train_std, y_train)"
   ]
  },
  {
   "cell_type": "code",
   "execution_count": 60,
   "id": "2db8eec2",
   "metadata": {},
   "outputs": [
    {
     "name": "stdout",
     "output_type": "stream",
     "text": [
      "accuracy = 79.4%\n"
     ]
    }
   ],
   "source": [
    "from sklearn.metrics import accuracy_score\n",
    "\n",
    "y_pred1 = logreg.predict(X_test_std)\n",
    "acc1 = accuracy_score(y_test, y_pred1)\n",
    "print('accuracy = {:.1f}%'.format(acc1*100))"
   ]
  },
  {
   "cell_type": "code",
   "execution_count": 65,
   "id": "f5aef2ee",
   "metadata": {},
   "outputs": [
    {
     "data": {
      "text/plain": [
       "array([[3202,  260],\n",
       "       [ 669,  369]])"
      ]
     },
     "execution_count": 65,
     "metadata": {},
     "output_type": "execute_result"
    }
   ],
   "source": [
    "# What does the confusion matrix look like?\n",
    "\n",
    "from sklearn.metrics import confusion_matrix\n",
    "confusion_matrix(y_test, y_pred1)"
   ]
  },
  {
   "cell_type": "code",
   "execution_count": 67,
   "id": "a180f501",
   "metadata": {},
   "outputs": [
    {
     "name": "stdout",
     "output_type": "stream",
     "text": [
      "Percent accuracy score per class:\n",
      "left = 0 : 92.49%\n",
      "left = 1 : 35.55%\n"
     ]
    }
   ],
   "source": [
    "# What is the accuracy by class?\n",
    "\n",
    "print('Percent accuracy score per class:')\n",
    "cmat1 = confusion_matrix(y_test, y_pred1)\n",
    "scores1 = cmat1.diagonal() / cmat1.sum(axis=1) * 100\n",
    "print('left = 0 : {:.2f}%'.format(scores1[0]))\n",
    "print('left = 1 : {:.2f}%'.format(scores1[1]))"
   ]
  },
  {
   "cell_type": "markdown",
   "id": "0ccf6e54",
   "metadata": {},
   "source": [
    "#### Support Vector Machine"
   ]
  },
  {
   "cell_type": "code",
   "execution_count": 61,
   "id": "1dcc99b4",
   "metadata": {},
   "outputs": [
    {
     "data": {
      "text/plain": [
       "SVC(C=1, kernel='linear', random_state=1)"
      ]
     },
     "execution_count": 61,
     "metadata": {},
     "output_type": "execute_result"
    }
   ],
   "source": [
    "# Train a support vector machine classifier\n",
    "from sklearn.svm import SVC\n",
    "\n",
    "svm = SVC(kernel='linear', C=1, random_state=1, gamma='scale')\n",
    "svm.fit(X_train_std, y_train)"
   ]
  },
  {
   "cell_type": "code",
   "execution_count": 62,
   "id": "1d89aa75",
   "metadata": {},
   "outputs": [
    {
     "name": "stdout",
     "output_type": "stream",
     "text": [
      "accuracy = 78.3%\n"
     ]
    }
   ],
   "source": [
    "# What is the classification accuracy?\n",
    "\n",
    "from sklearn.metrics import accuracy_score\n",
    "\n",
    "y_pred2 = svm.predict(X_test_std)\n",
    "acc2 = accuracy_score(y_test, y_pred2)\n",
    "print('accuracy = {:.1f}%'.format(acc2*100))"
   ]
  },
  {
   "cell_type": "code",
   "execution_count": 63,
   "id": "1b3c4b32",
   "metadata": {},
   "outputs": [
    {
     "data": {
      "text/plain": [
       "array([[3253,  209],\n",
       "       [ 768,  270]])"
      ]
     },
     "execution_count": 63,
     "metadata": {},
     "output_type": "execute_result"
    }
   ],
   "source": [
    "# What does the confusion matrix look like?\n",
    "\n",
    "from sklearn.metrics import confusion_matrix\n",
    "confusion_matrix(y_test, y_pred2)"
   ]
  },
  {
   "cell_type": "code",
   "execution_count": 68,
   "id": "247aa6a3",
   "metadata": {},
   "outputs": [
    {
     "name": "stdout",
     "output_type": "stream",
     "text": [
      "Percent accuracy score per class:\n",
      "left = 0 : 93.96%\n",
      "left = 1 : 26.01%\n"
     ]
    }
   ],
   "source": [
    "# What is the accuracy by class?\n",
    "\n",
    "print('Percent accuracy score per class:')\n",
    "cmat2 = confusion_matrix(y_test, y_pred2)\n",
    "scores2 = cmat2.diagonal() / cmat2.sum(axis=1) * 100\n",
    "print('left = 0 : {:.2f}%'.format(scores2[0]))\n",
    "print('left = 1 : {:.2f}%'.format(scores2[1]))"
   ]
  },
  {
   "cell_type": "markdown",
   "id": "0a2b2c4c",
   "metadata": {},
   "source": [
    "#### K-Nearest Neighbors"
   ]
  },
  {
   "cell_type": "code",
   "execution_count": 69,
   "id": "1f064dda",
   "metadata": {},
   "outputs": [],
   "source": [
    "# Load the K-Nearest Neighbors class\n",
    "from sklearn.neighbors import KNeighborsClassifier"
   ]
  },
  {
   "cell_type": "code",
   "execution_count": 70,
   "id": "47f05727",
   "metadata": {},
   "outputs": [
    {
     "data": {
      "text/plain": [
       "KNeighborsClassifier(n_neighbors=3)"
      ]
     },
     "execution_count": 70,
     "metadata": {},
     "output_type": "execute_result"
    }
   ],
   "source": [
    "# Train a K-Nearest Neighbors model\n",
    "knn = KNeighborsClassifier(n_neighbors=3)\n",
    "knn.fit(X_train_std, y_train)"
   ]
  },
  {
   "cell_type": "code",
   "execution_count": 71,
   "id": "522d83f2",
   "metadata": {},
   "outputs": [
    {
     "name": "stdout",
     "output_type": "stream",
     "text": [
      "accuracy = 94.2%\n"
     ]
    }
   ],
   "source": [
    "y_pred3 = knn.predict(X_test_std)\n",
    "acc1 = accuracy_score(y_test, y_pred3)\n",
    "print('accuracy = {:.1f}%'.format(acc1*100))"
   ]
  },
  {
   "cell_type": "code",
   "execution_count": 72,
   "id": "cdb4acca",
   "metadata": {},
   "outputs": [
    {
     "data": {
      "text/plain": [
       "array([[3289,  173],\n",
       "       [  86,  952]])"
      ]
     },
     "execution_count": 72,
     "metadata": {},
     "output_type": "execute_result"
    }
   ],
   "source": [
    "confusion_matrix(y_test, y_pred3)"
   ]
  },
  {
   "cell_type": "code",
   "execution_count": 76,
   "id": "75cbdf05",
   "metadata": {},
   "outputs": [
    {
     "name": "stdout",
     "output_type": "stream",
     "text": [
      "Percent accuracy score per class:\n",
      "left = 0 : 95.00%\n",
      "left = 1 : 91.71%\n"
     ]
    }
   ],
   "source": [
    "# What is the accuracy by class?\n",
    "\n",
    "print('Percent accuracy score per class:')\n",
    "cmat3 = confusion_matrix(y_test, y_pred3)\n",
    "scores3 = cmat3.diagonal() / cmat3.sum(axis=1) * 100\n",
    "print('left = 0 : {:.2f}%'.format(scores3[0]))\n",
    "print('left = 1 : {:.2f}%'.format(scores3[1]))"
   ]
  },
  {
   "cell_type": "code",
   "execution_count": null,
   "id": "2fdb8366",
   "metadata": {},
   "outputs": [],
   "source": []
  },
  {
   "cell_type": "code",
   "execution_count": null,
   "id": "de1919a5",
   "metadata": {},
   "outputs": [],
   "source": []
  },
  {
   "cell_type": "code",
   "execution_count": null,
   "id": "7b973336",
   "metadata": {},
   "outputs": [],
   "source": []
  }
 ],
 "metadata": {
  "kernelspec": {
   "display_name": "Python 3",
   "language": "python",
   "name": "python3"
  },
  "language_info": {
   "codemirror_mode": {
    "name": "ipython",
    "version": 3
   },
   "file_extension": ".py",
   "mimetype": "text/x-python",
   "name": "python",
   "nbconvert_exporter": "python",
   "pygments_lexer": "ipython3",
   "version": "3.6.13"
  }
 },
 "nbformat": 4,
 "nbformat_minor": 5
}
